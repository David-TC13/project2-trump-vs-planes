{
 "cells": [
  {
   "cell_type": "code",
   "execution_count": 1,
   "id": "29fe7277",
   "metadata": {},
   "outputs": [],
   "source": [
    "import requests\n",
    "from bs4 import BeautifulSoup\n",
    "import pandas as pd\n",
    "import requests\n",
    "import re\n",
    "import numpy as np"
   ]
  },
  {
   "cell_type": "markdown",
   "id": "edd1a9ea",
   "metadata": {},
   "source": [
    "## Obtaning the df. about "
   ]
  },
  {
   "cell_type": "code",
   "execution_count": 2,
   "id": "e74f642f",
   "metadata": {},
   "outputs": [],
   "source": [
    "df_suicide = pd.read_csv('data/master.csv')"
   ]
  },
  {
   "cell_type": "code",
   "execution_count": 26,
   "id": "cf138f5c",
   "metadata": {},
   "outputs": [
    {
     "data": {
      "text/plain": [
       "Index(['country', 'year', 'sex', 'age', 'suicides_no', 'population'], dtype='object')"
      ]
     },
     "execution_count": 26,
     "metadata": {},
     "output_type": "execute_result"
    }
   ],
   "source": [
    "df_suicide.columns"
   ]
  },
  {
   "cell_type": "code",
   "execution_count": 4,
   "id": "d62c015c",
   "metadata": {},
   "outputs": [
    {
     "data": {
      "text/html": [
       "<div>\n",
       "<style scoped>\n",
       "    .dataframe tbody tr th:only-of-type {\n",
       "        vertical-align: middle;\n",
       "    }\n",
       "\n",
       "    .dataframe tbody tr th {\n",
       "        vertical-align: top;\n",
       "    }\n",
       "\n",
       "    .dataframe thead th {\n",
       "        text-align: right;\n",
       "    }\n",
       "</style>\n",
       "<table border=\"1\" class=\"dataframe\">\n",
       "  <thead>\n",
       "    <tr style=\"text-align: right;\">\n",
       "      <th></th>\n",
       "      <th>country</th>\n",
       "      <th>year</th>\n",
       "      <th>sex</th>\n",
       "      <th>age</th>\n",
       "      <th>suicides_no</th>\n",
       "      <th>population</th>\n",
       "    </tr>\n",
       "  </thead>\n",
       "  <tbody>\n",
       "    <tr>\n",
       "      <th>4358</th>\n",
       "      <td>Belarus</td>\n",
       "      <td>1983</td>\n",
       "      <td>female</td>\n",
       "      <td>35-54 years</td>\n",
       "      <td>NaN</td>\n",
       "      <td>1283800.0</td>\n",
       "    </tr>\n",
       "  </tbody>\n",
       "</table>\n",
       "</div>"
      ],
      "text/plain": [
       "      country  year     sex          age  suicides_no  population\n",
       "4358  Belarus  1983  female  35-54 years          NaN   1283800.0"
      ]
     },
     "execution_count": 4,
     "metadata": {},
     "output_type": "execute_result"
    }
   ],
   "source": [
    "df_suicide.sample()"
   ]
  },
  {
   "cell_type": "code",
   "execution_count": 5,
   "id": "c4f778d9",
   "metadata": {},
   "outputs": [
    {
     "data": {
      "text/plain": [
       "array(['Albania', 'Anguilla', 'Antigua and Barbuda', 'Argentina',\n",
       "       'Armenia', 'Aruba', 'Australia', 'Austria', 'Azerbaijan',\n",
       "       'Bahamas', 'Bahrain', 'Barbados', 'Belarus', 'Belgium', 'Belize',\n",
       "       'Bermuda', 'Bolivia', 'Bosnia and Herzegovina', 'Brazil',\n",
       "       'British Virgin Islands', 'Brunei Darussalam', 'Bulgaria',\n",
       "       'Cabo Verde', 'Canada', 'Cayman Islands', 'Chile', 'Colombia',\n",
       "       'Costa Rica', 'Croatia', 'Cuba', 'Cyprus', 'Czech Republic',\n",
       "       'Denmark', 'Dominica', 'Dominican Republic', 'Ecuador', 'Egypt',\n",
       "       'El Salvador', 'Estonia', 'Falkland Islands (Malvinas)', 'Fiji',\n",
       "       'Finland', 'France', 'French Guiana', 'Georgia', 'Germany',\n",
       "       'Greece', 'Grenada', 'Guadeloupe', 'Guatemala', 'Guyana', 'Haiti',\n",
       "       'Honduras', 'Hong Kong SAR', 'Hungary', 'Iceland',\n",
       "       'Iran (Islamic Rep of)', 'Iraq', 'Ireland', 'Israel', 'Italy',\n",
       "       'Jamaica', 'Japan', 'Jordan', 'Kazakhstan', 'Kiribati', 'Kuwait',\n",
       "       'Kyrgyzstan', 'Latvia', 'Lithuania', 'Luxembourg', 'Macau',\n",
       "       'Malaysia', 'Maldives', 'Malta', 'Martinique', 'Mauritius',\n",
       "       'Mayotte', 'Mexico', 'Monaco', 'Mongolia', 'Montenegro',\n",
       "       'Montserrat', 'Morocco', 'Netherlands', 'Netherlands Antilles',\n",
       "       'New Zealand', 'Nicaragua', 'Norway',\n",
       "       'Occupied Palestinian Territory', 'Oman', 'Panama', 'Paraguay',\n",
       "       'Peru', 'Philippines', 'Poland', 'Portugal', 'Puerto Rico',\n",
       "       'Qatar', 'Republic of Korea', 'Republic of Moldova', 'Reunion',\n",
       "       'Rodrigues', 'Romania', 'Russian Federation',\n",
       "       'Saint Kitts and Nevis', 'Saint Lucia',\n",
       "       'Saint Pierre and Miquelon', 'Saint Vincent and Grenadines',\n",
       "       'San Marino', 'Sao Tome and Principe', 'Saudi Arabia', 'Serbia',\n",
       "       'Seychelles', 'Singapore', 'Slovakia', 'Slovenia', 'South Africa',\n",
       "       'Spain', 'Sri Lanka', 'Suriname', 'Sweden', 'Switzerland',\n",
       "       'Syrian Arab Republic', 'TFYR Macedonia', 'Tajikistan', 'Thailand',\n",
       "       'Trinidad and Tobago', 'Tunisia', 'Turkey', 'Turkmenistan',\n",
       "       'Turks and Caicos Islands', 'Ukraine', 'United Arab Emirates',\n",
       "       'United Kingdom', 'United States of America', 'Uruguay',\n",
       "       'Uzbekistan', 'Venezuela (Bolivarian Republic of)',\n",
       "       'Virgin Islands (USA)', 'Zimbabwe'], dtype=object)"
      ]
     },
     "execution_count": 5,
     "metadata": {},
     "output_type": "execute_result"
    }
   ],
   "source": [
    "df_suicide.country.unique()"
   ]
  },
  {
   "cell_type": "code",
   "execution_count": 30,
   "id": "09b467d6",
   "metadata": {},
   "outputs": [],
   "source": [
    "df_suicide_uk=df_suicide[df_suicide.country =='United Kingdom']"
   ]
  },
  {
   "cell_type": "code",
   "execution_count": 31,
   "id": "ad841246",
   "metadata": {},
   "outputs": [
    {
     "data": {
      "text/plain": [
       "array([1979, 1980, 1981, 1982, 1983, 1984, 1985, 1986, 1987, 1988, 1989,\n",
       "       1990, 1991, 1992, 1993, 1994, 1995, 1996, 1997, 1998, 1999, 2000,\n",
       "       2001, 2002, 2003, 2004, 2005, 2006, 2007, 2008, 2009, 2010, 2011,\n",
       "       2012, 2013, 2014, 2015, 2016])"
      ]
     },
     "execution_count": 31,
     "metadata": {},
     "output_type": "execute_result"
    }
   ],
   "source": [
    "df_suicide_uk.year.unique()"
   ]
  },
  {
   "cell_type": "markdown",
   "id": "fb9e5aa4",
   "metadata": {},
   "source": [
    "## Obtaining via web scraping the releases Love Island"
   ]
  },
  {
   "cell_type": "code",
   "execution_count": 32,
   "id": "29dda240",
   "metadata": {},
   "outputs": [],
   "source": [
    "url='https://thetvdb.com/series/love-island/allseasons/official'"
   ]
  },
  {
   "cell_type": "code",
   "execution_count": 33,
   "id": "1605b7ed",
   "metadata": {},
   "outputs": [],
   "source": [
    "soup = BeautifulSoup(requests.get(url).content, \"html.parser\")"
   ]
  },
  {
   "cell_type": "code",
   "execution_count": 34,
   "id": "b18fea32",
   "metadata": {},
   "outputs": [],
   "source": [
    "#soup"
   ]
  },
  {
   "cell_type": "code",
   "execution_count": 35,
   "id": "077b0c3d",
   "metadata": {},
   "outputs": [],
   "source": [
    "love_island_date = soup.find_all(\"ul\", attrs={'class':'list-inline text-muted'})"
   ]
  },
  {
   "cell_type": "code",
   "execution_count": 36,
   "id": "0202c612",
   "metadata": {},
   "outputs": [],
   "source": [
    "lst_date=[ i.getText().replace(',', '').replace('\\n', ' ').split() for i in love_island_date]"
   ]
  },
  {
   "cell_type": "code",
   "execution_count": 37,
   "id": "31f91077",
   "metadata": {},
   "outputs": [],
   "source": [
    "for i in lst_date:\n",
    "    i.pop()"
   ]
  },
  {
   "cell_type": "code",
   "execution_count": 47,
   "id": "8d2335ae",
   "metadata": {},
   "outputs": [
    {
     "data": {
      "text/plain": [
       "['June', '9', '2015']"
      ]
     },
     "execution_count": 47,
     "metadata": {},
     "output_type": "execute_result"
    }
   ],
   "source": [
    "lst_date[2]"
   ]
  },
  {
   "cell_type": "code",
   "execution_count": 51,
   "id": "10cc7229",
   "metadata": {},
   "outputs": [],
   "source": [
    "year =[i[2] for i in lst_date]\n"
   ]
  },
  {
   "cell_type": "code",
   "execution_count": 52,
   "id": "a86e93dc",
   "metadata": {},
   "outputs": [],
   "source": [
    "month =[i[0] for i in lst_date]\n"
   ]
  },
  {
   "cell_type": "code",
   "execution_count": 53,
   "id": "29f99a89",
   "metadata": {},
   "outputs": [],
   "source": [
    "love_island_episode= soup.find_all(\"span\", attrs={'class':'text-muted'})"
   ]
  },
  {
   "cell_type": "code",
   "execution_count": 54,
   "id": "d6820667",
   "metadata": {},
   "outputs": [],
   "source": [
    "season_episode = [i.getText().split('E') for i in love_island_episode]"
   ]
  },
  {
   "cell_type": "code",
   "execution_count": 55,
   "id": "df855245",
   "metadata": {},
   "outputs": [],
   "source": [
    "lst_episodes=[i[1] for i in season_episode]\n",
    "lst_seasons=[i[0].replace('S','') for i in season_episode]"
   ]
  },
  {
   "cell_type": "code",
   "execution_count": 56,
   "id": "1671be9a",
   "metadata": {},
   "outputs": [],
   "source": [
    "love_island_dict={\n",
    "    'Season': lst_seasons,\n",
    "    'Episode': lst_episodes,\n",
    "    \"Year\": year,\n",
    "    \"Month\": month\n",
    "}"
   ]
  },
  {
   "cell_type": "code",
   "execution_count": 60,
   "id": "10693777",
   "metadata": {},
   "outputs": [],
   "source": [
    "df_loveisland = pd.DataFrame.from_dict(love_island_dict)\n",
    "df_loveisland.Year= df_loveisland.Year.astype(\"int\")\n",
    "df_loveisland_2015_2016 = df_loveisland[df_loveisland.Year <2017]"
   ]
  },
  {
   "cell_type": "code",
   "execution_count": 61,
   "id": "7ca967df",
   "metadata": {},
   "outputs": [
    {
     "data": {
      "text/html": [
       "<div>\n",
       "<style scoped>\n",
       "    .dataframe tbody tr th:only-of-type {\n",
       "        vertical-align: middle;\n",
       "    }\n",
       "\n",
       "    .dataframe tbody tr th {\n",
       "        vertical-align: top;\n",
       "    }\n",
       "\n",
       "    .dataframe thead th {\n",
       "        text-align: right;\n",
       "    }\n",
       "</style>\n",
       "<table border=\"1\" class=\"dataframe\">\n",
       "  <thead>\n",
       "    <tr style=\"text-align: right;\">\n",
       "      <th></th>\n",
       "      <th>Season</th>\n",
       "      <th>Episode</th>\n",
       "      <th>Year</th>\n",
       "      <th>Month</th>\n",
       "    </tr>\n",
       "  </thead>\n",
       "  <tbody>\n",
       "    <tr>\n",
       "      <th>0</th>\n",
       "      <td>01</td>\n",
       "      <td>01</td>\n",
       "      <td>2015</td>\n",
       "      <td>June</td>\n",
       "    </tr>\n",
       "    <tr>\n",
       "      <th>1</th>\n",
       "      <td>01</td>\n",
       "      <td>02</td>\n",
       "      <td>2015</td>\n",
       "      <td>June</td>\n",
       "    </tr>\n",
       "    <tr>\n",
       "      <th>2</th>\n",
       "      <td>01</td>\n",
       "      <td>03</td>\n",
       "      <td>2015</td>\n",
       "      <td>June</td>\n",
       "    </tr>\n",
       "    <tr>\n",
       "      <th>3</th>\n",
       "      <td>01</td>\n",
       "      <td>04</td>\n",
       "      <td>2015</td>\n",
       "      <td>June</td>\n",
       "    </tr>\n",
       "    <tr>\n",
       "      <th>4</th>\n",
       "      <td>01</td>\n",
       "      <td>05</td>\n",
       "      <td>2015</td>\n",
       "      <td>June</td>\n",
       "    </tr>\n",
       "    <tr>\n",
       "      <th>...</th>\n",
       "      <td>...</td>\n",
       "      <td>...</td>\n",
       "      <td>...</td>\n",
       "      <td>...</td>\n",
       "    </tr>\n",
       "    <tr>\n",
       "      <th>73</th>\n",
       "      <td>02</td>\n",
       "      <td>40</td>\n",
       "      <td>2016</td>\n",
       "      <td>July</td>\n",
       "    </tr>\n",
       "    <tr>\n",
       "      <th>74</th>\n",
       "      <td>02</td>\n",
       "      <td>41</td>\n",
       "      <td>2016</td>\n",
       "      <td>July</td>\n",
       "    </tr>\n",
       "    <tr>\n",
       "      <th>75</th>\n",
       "      <td>02</td>\n",
       "      <td>42</td>\n",
       "      <td>2016</td>\n",
       "      <td>July</td>\n",
       "    </tr>\n",
       "    <tr>\n",
       "      <th>76</th>\n",
       "      <td>02</td>\n",
       "      <td>43</td>\n",
       "      <td>2016</td>\n",
       "      <td>July</td>\n",
       "    </tr>\n",
       "    <tr>\n",
       "      <th>77</th>\n",
       "      <td>02</td>\n",
       "      <td>44</td>\n",
       "      <td>2016</td>\n",
       "      <td>July</td>\n",
       "    </tr>\n",
       "  </tbody>\n",
       "</table>\n",
       "<p>78 rows × 4 columns</p>\n",
       "</div>"
      ],
      "text/plain": [
       "   Season Episode  Year Month\n",
       "0      01      01  2015  June\n",
       "1      01      02  2015  June\n",
       "2      01      03  2015  June\n",
       "3      01      04  2015  June\n",
       "4      01      05  2015  June\n",
       "..    ...     ...   ...   ...\n",
       "73     02      40  2016  July\n",
       "74     02      41  2016  July\n",
       "75     02      42  2016  July\n",
       "76     02      43  2016  July\n",
       "77     02      44  2016  July\n",
       "\n",
       "[78 rows x 4 columns]"
      ]
     },
     "execution_count": 61,
     "metadata": {},
     "output_type": "execute_result"
    }
   ],
   "source": [
    "df_loveisland_2015_2016"
   ]
  },
  {
   "cell_type": "code",
   "execution_count": null,
   "id": "dba54cd0",
   "metadata": {},
   "outputs": [],
   "source": []
  }
 ],
 "metadata": {
  "kernelspec": {
   "display_name": "ironhack",
   "language": "python",
   "name": "ironhack"
  },
  "language_info": {
   "codemirror_mode": {
    "name": "ipython",
    "version": 3
   },
   "file_extension": ".py",
   "mimetype": "text/x-python",
   "name": "python",
   "nbconvert_exporter": "python",
   "pygments_lexer": "ipython3",
   "version": "3.9.15"
  },
  "toc": {
   "base_numbering": 1,
   "nav_menu": {},
   "number_sections": true,
   "sideBar": true,
   "skip_h1_title": false,
   "title_cell": "Table of Contents",
   "title_sidebar": "Contents",
   "toc_cell": false,
   "toc_position": {},
   "toc_section_display": true,
   "toc_window_display": false
  }
 },
 "nbformat": 4,
 "nbformat_minor": 5
}
