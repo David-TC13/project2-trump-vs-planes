{
 "cells": [
  {
   "cell_type": "code",
   "execution_count": 1,
   "id": "29fe7277",
   "metadata": {},
   "outputs": [],
   "source": [
    "import requests\n",
    "from bs4 import BeautifulSoup\n",
    "\n",
    "import pandas as pd\n",
    "import numpy as np\n",
    "\n",
    "import seaborn as sns\n",
    "import matplotlib.pyplot as plt\n",
    "import matplotlib"
   ]
  },
  {
   "cell_type": "markdown",
   "id": "edd1a9ea",
   "metadata": {},
   "source": [
    "## Obtaning the df. about "
   ]
  },
  {
   "cell_type": "code",
   "execution_count": 2,
   "id": "e74f642f",
   "metadata": {},
   "outputs": [],
   "source": [
    "df_suicide = pd.read_csv('data/master.csv')"
   ]
  },
  {
   "cell_type": "code",
   "execution_count": 3,
   "id": "d62c015c",
   "metadata": {},
   "outputs": [
    {
     "data": {
      "text/html": [
       "<div>\n",
       "<style scoped>\n",
       "    .dataframe tbody tr th:only-of-type {\n",
       "        vertical-align: middle;\n",
       "    }\n",
       "\n",
       "    .dataframe tbody tr th {\n",
       "        vertical-align: top;\n",
       "    }\n",
       "\n",
       "    .dataframe thead th {\n",
       "        text-align: right;\n",
       "    }\n",
       "</style>\n",
       "<table border=\"1\" class=\"dataframe\">\n",
       "  <thead>\n",
       "    <tr style=\"text-align: right;\">\n",
       "      <th></th>\n",
       "      <th>country</th>\n",
       "      <th>year</th>\n",
       "      <th>sex</th>\n",
       "      <th>age</th>\n",
       "      <th>suicides_no</th>\n",
       "      <th>population</th>\n",
       "      <th>suicides/100k pop</th>\n",
       "      <th>country-year</th>\n",
       "      <th>HDI for year</th>\n",
       "      <th>gdp_for_year ($)</th>\n",
       "      <th>gdp_per_capita ($)</th>\n",
       "      <th>generation</th>\n",
       "    </tr>\n",
       "  </thead>\n",
       "  <tbody>\n",
       "    <tr>\n",
       "      <th>19026</th>\n",
       "      <td>Philippines</td>\n",
       "      <td>2008</td>\n",
       "      <td>female</td>\n",
       "      <td>75+ years</td>\n",
       "      <td>12.0</td>\n",
       "      <td>654125</td>\n",
       "      <td>1.83</td>\n",
       "      <td>Philippines2008</td>\n",
       "      <td>NaN</td>\n",
       "      <td>1,74,19,51,36,253</td>\n",
       "      <td>2188.0</td>\n",
       "      <td>Silent</td>\n",
       "    </tr>\n",
       "  </tbody>\n",
       "</table>\n",
       "</div>"
      ],
      "text/plain": [
       "           country  year     sex        age  suicides_no  population  \\\n",
       "19026  Philippines  2008  female  75+ years         12.0      654125   \n",
       "\n",
       "       suicides/100k pop     country-year  HDI for year  gdp_for_year ($)   \\\n",
       "19026               1.83  Philippines2008           NaN  1,74,19,51,36,253   \n",
       "\n",
       "       gdp_per_capita ($) generation  \n",
       "19026              2188.0     Silent  "
      ]
     },
     "execution_count": 3,
     "metadata": {},
     "output_type": "execute_result"
    }
   ],
   "source": [
    "df_suicide.sample()"
   ]
  },
  {
   "cell_type": "code",
   "execution_count": 4,
   "id": "c4f778d9",
   "metadata": {},
   "outputs": [
    {
     "data": {
      "text/plain": [
       "array(['Albania', 'Antigua and Barbuda', 'Argentina', 'Armenia', 'Aruba',\n",
       "       'Australia', 'Austria', 'Azerbaijan', 'Bahamas', 'Bahrain',\n",
       "       'Barbados', 'Belarus', 'Belgium', 'Belize',\n",
       "       'Bosnia and Herzegovina', 'Brazil', 'Bulgaria', 'Cabo Verde',\n",
       "       'Canada', 'Chile', 'Colombia', 'Costa Rica', 'Croatia', 'Cuba',\n",
       "       'Cyprus', 'Czech Republic', 'Denmark', 'Dominica', 'Ecuador',\n",
       "       'El Salvador', 'Estonia', 'Fiji', 'Finland', 'France', 'Georgia',\n",
       "       'Germany', 'Greece', 'Grenada', 'Guatemala', 'Guyana', 'Hungary',\n",
       "       'Iceland', 'Ireland', 'Israel', 'Italy', 'Jamaica', 'Japan',\n",
       "       'Kazakhstan', 'Kiribati', 'Kuwait', 'Kyrgyzstan', 'Latvia',\n",
       "       'Lithuania', 'Luxembourg', 'Macau', 'Maldives', 'Malta',\n",
       "       'Mauritius', 'Mexico', 'Mongolia', 'Montenegro', 'Netherlands',\n",
       "       'New Zealand', 'Nicaragua', 'Norway', 'Oman', 'Panama', 'Paraguay',\n",
       "       'Philippines', 'Poland', 'Portugal', 'Puerto Rico', 'Qatar',\n",
       "       'Republic of Korea', 'Romania', 'Russian Federation',\n",
       "       'Saint Kitts and Nevis', 'Saint Lucia',\n",
       "       'Saint Vincent and Grenadines', 'San Marino', 'Serbia',\n",
       "       'Seychelles', 'Singapore', 'Slovakia', 'Slovenia', 'South Africa',\n",
       "       'Spain', 'Sri Lanka', 'Suriname', 'Sweden', 'Switzerland',\n",
       "       'Thailand', 'Trinidad and Tobago', 'Turkey', 'Turkmenistan',\n",
       "       'Ukraine', 'United Arab Emirates', 'United Kingdom',\n",
       "       'United States', 'Uruguay', 'Uzbekistan', 'Brunei Darussalam',\n",
       "       'China, Hong Kong SAR', 'Czechia', 'Dominican Republic', 'Egypt',\n",
       "       'Jordan', 'Lebanon', 'North Macedonia', 'Peru',\n",
       "       'Republic of Moldova', 'Saint Vincent and the Grenadines',\n",
       "       'Tajikistan', 'United States of America'], dtype=object)"
      ]
     },
     "execution_count": 4,
     "metadata": {},
     "output_type": "execute_result"
    }
   ],
   "source": [
    "df_suicide.country.unique() # checking if United Kingdom is included in the list of countries of the DF"
   ]
  },
  {
   "cell_type": "markdown",
   "id": "8634d1cd",
   "metadata": {},
   "source": [
    "### Cleaning data in order to get the suicide rates from 2005 in the United Kingdom to see the pre and post retransmission of Love Island"
   ]
  },
  {
   "cell_type": "code",
   "execution_count": 5,
   "id": "3ac068d2",
   "metadata": {},
   "outputs": [],
   "source": [
    "import src.cleaning as clean"
   ]
  },
  {
   "cell_type": "code",
   "execution_count": 6,
   "id": "eed9dc80",
   "metadata": {},
   "outputs": [],
   "source": [
    "df_suicide = clean.cl_colm(df_suicide) # cleaning columns"
   ]
  },
  {
   "cell_type": "code",
   "execution_count": 7,
   "id": "499dc7ea",
   "metadata": {},
   "outputs": [],
   "source": [
    "df_suicide_uk = clean.cl_country_year_null(df_suicide) # cleaning countries, years<2004 and null values\n"
   ]
  },
  {
   "cell_type": "code",
   "execution_count": 8,
   "id": "b2c71c2c",
   "metadata": {},
   "outputs": [
    {
     "data": {
      "text/html": [
       "<div>\n",
       "<style scoped>\n",
       "    .dataframe tbody tr th:only-of-type {\n",
       "        vertical-align: middle;\n",
       "    }\n",
       "\n",
       "    .dataframe tbody tr th {\n",
       "        vertical-align: top;\n",
       "    }\n",
       "\n",
       "    .dataframe thead th {\n",
       "        text-align: right;\n",
       "    }\n",
       "</style>\n",
       "<table border=\"1\" class=\"dataframe\">\n",
       "  <thead>\n",
       "    <tr style=\"text-align: right;\">\n",
       "      <th></th>\n",
       "      <th>country</th>\n",
       "      <th>year</th>\n",
       "      <th>sex</th>\n",
       "      <th>age</th>\n",
       "      <th>suicides_no</th>\n",
       "      <th>population</th>\n",
       "      <th>generation</th>\n",
       "    </tr>\n",
       "  </thead>\n",
       "  <tbody>\n",
       "    <tr>\n",
       "      <th>26819</th>\n",
       "      <td>United Kingdom</td>\n",
       "      <td>2013</td>\n",
       "      <td>female</td>\n",
       "      <td>55-74 years</td>\n",
       "      <td>232.0</td>\n",
       "      <td>6839180</td>\n",
       "      <td>Boomers</td>\n",
       "    </tr>\n",
       "  </tbody>\n",
       "</table>\n",
       "</div>"
      ],
      "text/plain": [
       "              country  year     sex          age  suicides_no  population  \\\n",
       "26819  United Kingdom  2013  female  55-74 years        232.0     6839180   \n",
       "\n",
       "      generation  \n",
       "26819    Boomers  "
      ]
     },
     "execution_count": 8,
     "metadata": {},
     "output_type": "execute_result"
    }
   ],
   "source": [
    "df_suicide_uk.sample()"
   ]
  },
  {
   "cell_type": "markdown",
   "id": "fb9e5aa4",
   "metadata": {},
   "source": [
    "## Obtaining via web scraping the releases Love Island until 2020"
   ]
  },
  {
   "cell_type": "code",
   "execution_count": 9,
   "id": "6401dce4",
   "metadata": {},
   "outputs": [],
   "source": [
    "import src.scrp as sc"
   ]
  },
  {
   "cell_type": "markdown",
   "id": "7026d218",
   "metadata": {},
   "source": [
    "### Getting the info from Love Island "
   ]
  },
  {
   "cell_type": "code",
   "execution_count": 10,
   "id": "29dda240",
   "metadata": {},
   "outputs": [],
   "source": [
    "url='https://thetvdb.com/series/love-island/allseasons/official'"
   ]
  },
  {
   "cell_type": "code",
   "execution_count": 11,
   "id": "e15ff5f8",
   "metadata": {},
   "outputs": [],
   "source": [
    "soup = sc.extrc(url) # Importing all the info from the website"
   ]
  },
  {
   "cell_type": "code",
   "execution_count": 12,
   "id": "077b0c3d",
   "metadata": {},
   "outputs": [
    {
     "data": {
      "text/plain": [
       "<ul class=\"list-inline text-muted\">\n",
       "<li>June 8, 2015</li>\n",
       "<li>ITV2</li>\n",
       "</ul>"
      ]
     },
     "execution_count": 12,
     "metadata": {},
     "output_type": "execute_result"
    }
   ],
   "source": [
    "love_island_date = soup.find_all(\"ul\", attrs={'class':'list-inline text-muted'}) # Getting the dates of each episode\n",
    "love_island_date[1]"
   ]
  },
  {
   "cell_type": "markdown",
   "id": "ffe4742f",
   "metadata": {},
   "source": [
    "### Cleaning the data for the dates"
   ]
  },
  {
   "cell_type": "code",
   "execution_count": 13,
   "id": "c8312006",
   "metadata": {},
   "outputs": [],
   "source": [
    "lst_date= sc.clearance_date(love_island_date)"
   ]
  },
  {
   "cell_type": "code",
   "execution_count": 14,
   "id": "8d2335ae",
   "metadata": {},
   "outputs": [
    {
     "data": {
      "text/plain": [
       "['June', '9', '2015']"
      ]
     },
     "execution_count": 14,
     "metadata": {},
     "output_type": "execute_result"
    }
   ],
   "source": [
    "lst_date[2]"
   ]
  },
  {
   "cell_type": "code",
   "execution_count": 15,
   "id": "91bd2fc8",
   "metadata": {},
   "outputs": [
    {
     "data": {
      "text/plain": [
       "'2015'"
      ]
     },
     "execution_count": 15,
     "metadata": {},
     "output_type": "execute_result"
    }
   ],
   "source": [
    "year= sc.def_year(lst_date)\n",
    "year[1]"
   ]
  },
  {
   "cell_type": "code",
   "execution_count": 16,
   "id": "bf4564e7",
   "metadata": {},
   "outputs": [
    {
     "data": {
      "text/plain": [
       "'June'"
      ]
     },
     "execution_count": 16,
     "metadata": {},
     "output_type": "execute_result"
    }
   ],
   "source": [
    "month= sc.def_month(lst_date)\n",
    "month[0]"
   ]
  },
  {
   "cell_type": "markdown",
   "id": "8082c85d",
   "metadata": {},
   "source": [
    "### Getting the data of seasons and episodes"
   ]
  },
  {
   "cell_type": "code",
   "execution_count": 17,
   "id": "a6d25c7b",
   "metadata": {},
   "outputs": [
    {
     "data": {
      "text/plain": [
       "<span class=\"text-muted episode-label\">S01E11</span>"
      ]
     },
     "execution_count": 17,
     "metadata": {},
     "output_type": "execute_result"
    }
   ],
   "source": [
    "love_island_episode= soup.find_all(\"span\", attrs={'class':'text-muted'}) # Getting the list of episodes with seasons\n",
    "love_island_episode[10]"
   ]
  },
  {
   "cell_type": "code",
   "execution_count": 18,
   "id": "2a6e4a76",
   "metadata": {},
   "outputs": [],
   "source": [
    "import src.scrp_epis as sc2"
   ]
  },
  {
   "cell_type": "code",
   "execution_count": 19,
   "id": "ea25a18d",
   "metadata": {},
   "outputs": [],
   "source": [
    "season_episode = sc2.episode_season(love_island_episode) #split the season and episodes"
   ]
  },
  {
   "cell_type": "code",
   "execution_count": 20,
   "id": "1a592f1e",
   "metadata": {},
   "outputs": [],
   "source": [
    "lst_episodes = sc2.episodes(season_episode) # creating a list of episodes to include in a new DF"
   ]
  },
  {
   "cell_type": "code",
   "execution_count": 21,
   "id": "d440dbd7",
   "metadata": {},
   "outputs": [],
   "source": [
    "lst_seasons = sc2.seasons(season_episode)# creating a list of seasons linked with episodes to include in a new DF"
   ]
  },
  {
   "cell_type": "markdown",
   "id": "1a652620",
   "metadata": {},
   "source": [
    "### Creating a DF with all the data above"
   ]
  },
  {
   "cell_type": "code",
   "execution_count": 22,
   "id": "e3063b79",
   "metadata": {},
   "outputs": [],
   "source": [
    "import src.loveislanddf as lidf"
   ]
  },
  {
   "cell_type": "code",
   "execution_count": 23,
   "id": "c4df3557",
   "metadata": {},
   "outputs": [],
   "source": [
    "love_island_dict=lidf.dictionary(lst_seasons,lst_episodes,year,month) # defining a dictionary of lists"
   ]
  },
  {
   "cell_type": "code",
   "execution_count": 24,
   "id": "abda0b7d",
   "metadata": {},
   "outputs": [],
   "source": [
    "df_loveisland_until_2020= lidf.dfloveisland (love_island_dict) # defining the dictionary"
   ]
  },
  {
   "cell_type": "code",
   "execution_count": 25,
   "id": "7ca967df",
   "metadata": {},
   "outputs": [
    {
     "data": {
      "text/html": [
       "<div>\n",
       "<style scoped>\n",
       "    .dataframe tbody tr th:only-of-type {\n",
       "        vertical-align: middle;\n",
       "    }\n",
       "\n",
       "    .dataframe tbody tr th {\n",
       "        vertical-align: top;\n",
       "    }\n",
       "\n",
       "    .dataframe thead th {\n",
       "        text-align: right;\n",
       "    }\n",
       "</style>\n",
       "<table border=\"1\" class=\"dataframe\">\n",
       "  <thead>\n",
       "    <tr style=\"text-align: right;\">\n",
       "      <th></th>\n",
       "      <th>Season</th>\n",
       "      <th>Episode</th>\n",
       "      <th>Year</th>\n",
       "      <th>Month</th>\n",
       "    </tr>\n",
       "  </thead>\n",
       "  <tbody>\n",
       "    <tr>\n",
       "      <th>67</th>\n",
       "      <td>2</td>\n",
       "      <td>34</td>\n",
       "      <td>2016</td>\n",
       "      <td>July</td>\n",
       "    </tr>\n",
       "  </tbody>\n",
       "</table>\n",
       "</div>"
      ],
      "text/plain": [
       "    Season  Episode  Year Month\n",
       "67       2       34  2016  July"
      ]
     },
     "execution_count": 25,
     "metadata": {},
     "output_type": "execute_result"
    }
   ],
   "source": [
    "df_loveisland_until_2020.sample()"
   ]
  },
  {
   "cell_type": "markdown",
   "id": "5ab2e654",
   "metadata": {},
   "source": [
    "## Analysis"
   ]
  },
  {
   "cell_type": "markdown",
   "id": "7ba6f7a8",
   "metadata": {},
   "source": [
    "### checking the information can be related with both DF, in this cas, the years"
   ]
  },
  {
   "cell_type": "code",
   "execution_count": 26,
   "id": "02592968",
   "metadata": {},
   "outputs": [],
   "source": [
    "import src.groupby as gb"
   ]
  },
  {
   "cell_type": "code",
   "execution_count": 27,
   "id": "32c87029",
   "metadata": {},
   "outputs": [
    {
     "data": {
      "text/plain": [
       "array([1, 2, 3, 4, 5])"
      ]
     },
     "execution_count": 27,
     "metadata": {},
     "output_type": "execute_result"
    }
   ],
   "source": [
    "df_loveisland_until_2020.Season.unique()"
   ]
  },
  {
   "cell_type": "code",
   "execution_count": 28,
   "id": "67c59cf2",
   "metadata": {},
   "outputs": [
    {
     "data": {
      "text/html": [
       "<div>\n",
       "<style scoped>\n",
       "    .dataframe tbody tr th:only-of-type {\n",
       "        vertical-align: middle;\n",
       "    }\n",
       "\n",
       "    .dataframe tbody tr th {\n",
       "        vertical-align: top;\n",
       "    }\n",
       "\n",
       "    .dataframe thead th {\n",
       "        text-align: right;\n",
       "    }\n",
       "</style>\n",
       "<table border=\"1\" class=\"dataframe\">\n",
       "  <thead>\n",
       "    <tr style=\"text-align: right;\">\n",
       "      <th></th>\n",
       "      <th>country</th>\n",
       "      <th>year</th>\n",
       "      <th>sex</th>\n",
       "      <th>age</th>\n",
       "      <th>suicides_no</th>\n",
       "      <th>population</th>\n",
       "      <th>generation</th>\n",
       "    </tr>\n",
       "  </thead>\n",
       "  <tbody>\n",
       "    <tr>\n",
       "      <th>26716</th>\n",
       "      <td>United Kingdom</td>\n",
       "      <td>2005</td>\n",
       "      <td>male</td>\n",
       "      <td>35-54 years</td>\n",
       "      <td>1359.0</td>\n",
       "      <td>8397155</td>\n",
       "      <td>Boomers</td>\n",
       "    </tr>\n",
       "  </tbody>\n",
       "</table>\n",
       "</div>"
      ],
      "text/plain": [
       "              country  year   sex          age  suicides_no  population  \\\n",
       "26716  United Kingdom  2005  male  35-54 years       1359.0     8397155   \n",
       "\n",
       "      generation  \n",
       "26716    Boomers  "
      ]
     },
     "execution_count": 28,
     "metadata": {},
     "output_type": "execute_result"
    }
   ],
   "source": [
    "df_suicide_uk.sample()"
   ]
  },
  {
   "cell_type": "code",
   "execution_count": 29,
   "id": "765b6b7f",
   "metadata": {},
   "outputs": [
    {
     "data": {
      "text/plain": [
       "array([2005, 2006, 2007, 2008, 2009, 2010, 2011, 2012, 2013, 2014, 2015,\n",
       "       2019, 2018, 2017])"
      ]
     },
     "execution_count": 29,
     "metadata": {},
     "output_type": "execute_result"
    }
   ],
   "source": [
    "df_suicide_uk.year.unique()"
   ]
  },
  {
   "cell_type": "code",
   "execution_count": 30,
   "id": "a6ce9a88",
   "metadata": {},
   "outputs": [
    {
     "data": {
      "text/html": [
       "<div>\n",
       "<style scoped>\n",
       "    .dataframe tbody tr th:only-of-type {\n",
       "        vertical-align: middle;\n",
       "    }\n",
       "\n",
       "    .dataframe tbody tr th {\n",
       "        vertical-align: top;\n",
       "    }\n",
       "\n",
       "    .dataframe thead th {\n",
       "        text-align: right;\n",
       "    }\n",
       "</style>\n",
       "<table border=\"1\" class=\"dataframe\">\n",
       "  <thead>\n",
       "    <tr style=\"text-align: right;\">\n",
       "      <th></th>\n",
       "      <th></th>\n",
       "      <th>suicides_no</th>\n",
       "    </tr>\n",
       "    <tr>\n",
       "      <th>age</th>\n",
       "      <th>year</th>\n",
       "      <th></th>\n",
       "    </tr>\n",
       "  </thead>\n",
       "  <tbody>\n",
       "    <tr>\n",
       "      <th rowspan=\"5\" valign=\"top\">15-24 years</th>\n",
       "      <th>2005</th>\n",
       "      <td>384.0</td>\n",
       "    </tr>\n",
       "    <tr>\n",
       "      <th>2006</th>\n",
       "      <td>382.0</td>\n",
       "    </tr>\n",
       "    <tr>\n",
       "      <th>2007</th>\n",
       "      <td>379.0</td>\n",
       "    </tr>\n",
       "    <tr>\n",
       "      <th>2008</th>\n",
       "      <td>404.0</td>\n",
       "    </tr>\n",
       "    <tr>\n",
       "      <th>2009</th>\n",
       "      <td>416.0</td>\n",
       "    </tr>\n",
       "    <tr>\n",
       "      <th>...</th>\n",
       "      <th>...</th>\n",
       "      <td>...</td>\n",
       "    </tr>\n",
       "    <tr>\n",
       "      <th rowspan=\"5\" valign=\"top\">75+ years</th>\n",
       "      <th>2014</th>\n",
       "      <td>340.0</td>\n",
       "    </tr>\n",
       "    <tr>\n",
       "      <th>2015</th>\n",
       "      <td>381.0</td>\n",
       "    </tr>\n",
       "    <tr>\n",
       "      <th>2017</th>\n",
       "      <td>338.0</td>\n",
       "    </tr>\n",
       "    <tr>\n",
       "      <th>2018</th>\n",
       "      <td>413.0</td>\n",
       "    </tr>\n",
       "    <tr>\n",
       "      <th>2019</th>\n",
       "      <td>372.0</td>\n",
       "    </tr>\n",
       "  </tbody>\n",
       "</table>\n",
       "<p>84 rows × 1 columns</p>\n",
       "</div>"
      ],
      "text/plain": [
       "                  suicides_no\n",
       "age         year             \n",
       "15-24 years 2005        384.0\n",
       "            2006        382.0\n",
       "            2007        379.0\n",
       "            2008        404.0\n",
       "            2009        416.0\n",
       "...                       ...\n",
       "75+ years   2014        340.0\n",
       "            2015        381.0\n",
       "            2017        338.0\n",
       "            2018        413.0\n",
       "            2019        372.0\n",
       "\n",
       "[84 rows x 1 columns]"
      ]
     },
     "execution_count": 30,
     "metadata": {},
     "output_type": "execute_result"
    }
   ],
   "source": [
    "df_suicide_ages = gb.group_suici_age (df_suicide_uk) # Group by ages and years the suicide rates\n",
    "df_suicide_ages\n"
   ]
  },
  {
   "cell_type": "code",
   "execution_count": 31,
   "id": "ece5e96b",
   "metadata": {},
   "outputs": [
    {
     "data": {
      "text/html": [
       "<div>\n",
       "<style scoped>\n",
       "    .dataframe tbody tr th:only-of-type {\n",
       "        vertical-align: middle;\n",
       "    }\n",
       "\n",
       "    .dataframe tbody tr th {\n",
       "        vertical-align: top;\n",
       "    }\n",
       "\n",
       "    .dataframe thead th {\n",
       "        text-align: right;\n",
       "    }\n",
       "</style>\n",
       "<table border=\"1\" class=\"dataframe\">\n",
       "  <thead>\n",
       "    <tr style=\"text-align: right;\">\n",
       "      <th></th>\n",
       "      <th></th>\n",
       "      <th>Episode</th>\n",
       "    </tr>\n",
       "    <tr>\n",
       "      <th>Season</th>\n",
       "      <th>Year</th>\n",
       "      <th></th>\n",
       "    </tr>\n",
       "  </thead>\n",
       "  <tbody>\n",
       "    <tr>\n",
       "      <th>1</th>\n",
       "      <th>2015</th>\n",
       "      <td>34</td>\n",
       "    </tr>\n",
       "    <tr>\n",
       "      <th>2</th>\n",
       "      <th>2016</th>\n",
       "      <td>44</td>\n",
       "    </tr>\n",
       "    <tr>\n",
       "      <th>3</th>\n",
       "      <th>2017</th>\n",
       "      <td>51</td>\n",
       "    </tr>\n",
       "    <tr>\n",
       "      <th>4</th>\n",
       "      <th>2018</th>\n",
       "      <td>58</td>\n",
       "    </tr>\n",
       "    <tr>\n",
       "      <th>5</th>\n",
       "      <th>2019</th>\n",
       "      <td>58</td>\n",
       "    </tr>\n",
       "  </tbody>\n",
       "</table>\n",
       "</div>"
      ],
      "text/plain": [
       "             Episode\n",
       "Season Year         \n",
       "1      2015       34\n",
       "2      2016       44\n",
       "3      2017       51\n",
       "4      2018       58\n",
       "5      2019       58"
      ]
     },
     "execution_count": 31,
     "metadata": {},
     "output_type": "execute_result"
    }
   ],
   "source": [
    "df_distr_epi = gb.group_season_epi (df_loveisland_until_2020)\n",
    "df_distr_epi"
   ]
  },
  {
   "cell_type": "markdown",
   "id": "72ceac66",
   "metadata": {},
   "source": [
    "## Figures for suicide"
   ]
  },
  {
   "cell_type": "markdown",
   "id": "bdc1485f",
   "metadata": {},
   "source": [
    "- As can be check of the graph below the ages in between XXXXXXX have a raise on the suicide rates"
   ]
  },
  {
   "cell_type": "code",
   "execution_count": 32,
   "id": "1edbf169",
   "metadata": {
    "scrolled": true
   },
   "outputs": [
    {
     "data": {
      "image/png": "[encoded data removed]",
      "text/plain": [
       "<Figure size 432x288 with 1 Axes>"
      ]
     },
     "metadata": {
      "needs_background": "light"
     },
     "output_type": "display_data"
    }
   ],
   "source": [
    "suicide_ages = sns.lineplot(data=df_suicide_ages, x=\"year\", y=\"suicides_no\", hue=\"age\").set(title=\"Suicide no. from 2005-2020\");"
   ]
  },
  {
   "cell_type": "markdown",
   "id": "1855cb6e",
   "metadata": {},
   "source": [
    "## Figures for Love island"
   ]
  },
  {
   "cell_type": "code",
   "execution_count": 33,
   "id": "93efa2be",
   "metadata": {},
   "outputs": [
    {
     "data": {
      "image/png": "[encoded data removed]",
      "text/plain": [
       "<Figure size 432x288 with 1 Axes>"
      ]
     },
     "metadata": {
      "needs_background": "light"
     },
     "output_type": "display_data"
    }
   ],
   "source": [
    "epis_year = sns.barplot(data=df_loveisland_until_2020, x=\"Year\", y=\"Episode\", estimator=\"sum\").set(title=\"Episodes by season\");"
   ]
  },
  {
   "cell_type": "markdown",
   "id": "73db3297",
   "metadata": {},
   "source": [
    "## Getting all the graphs together"
   ]
  },
  {
   "cell_type": "markdown",
   "id": "613e360b",
   "metadata": {},
   "source": [
    "### Join the DF by the year"
   ]
  },
  {
   "cell_type": "code",
   "execution_count": 34,
   "id": "d759339d",
   "metadata": {},
   "outputs": [
    {
     "data": {
      "text/html": [
       "<div>\n",
       "<style scoped>\n",
       "    .dataframe tbody tr th:only-of-type {\n",
       "        vertical-align: middle;\n",
       "    }\n",
       "\n",
       "    .dataframe tbody tr th {\n",
       "        vertical-align: top;\n",
       "    }\n",
       "\n",
       "    .dataframe thead th {\n",
       "        text-align: right;\n",
       "    }\n",
       "</style>\n",
       "<table border=\"1\" class=\"dataframe\">\n",
       "  <thead>\n",
       "    <tr style=\"text-align: right;\">\n",
       "      <th></th>\n",
       "      <th>country</th>\n",
       "      <th>year</th>\n",
       "      <th>sex</th>\n",
       "      <th>age</th>\n",
       "      <th>suicides_no</th>\n",
       "      <th>population</th>\n",
       "      <th>generation</th>\n",
       "    </tr>\n",
       "  </thead>\n",
       "  <tbody>\n",
       "    <tr>\n",
       "      <th>26836</th>\n",
       "      <td>United Kingdom</td>\n",
       "      <td>2015</td>\n",
       "      <td>male</td>\n",
       "      <td>35-54 years</td>\n",
       "      <td>1579.0</td>\n",
       "      <td>8692440</td>\n",
       "      <td>Generation X</td>\n",
       "    </tr>\n",
       "  </tbody>\n",
       "</table>\n",
       "</div>"
      ],
      "text/plain": [
       "              country  year   sex          age  suicides_no  population  \\\n",
       "26836  United Kingdom  2015  male  35-54 years       1579.0     8692440   \n",
       "\n",
       "         generation  \n",
       "26836  Generation X  "
      ]
     },
     "execution_count": 34,
     "metadata": {},
     "output_type": "execute_result"
    }
   ],
   "source": [
    "df_suicide_uk.sample()"
   ]
  },
  {
   "cell_type": "code",
   "execution_count": 35,
   "id": "6518c28d",
   "metadata": {},
   "outputs": [],
   "source": [
    "import src.joining as jn"
   ]
  },
  {
   "cell_type": "code",
   "execution_count": 36,
   "id": "7b02d1d2",
   "metadata": {},
   "outputs": [],
   "source": [
    "df_join= jn.join_df(df_suicide_uk, df_loveisland_until_2020)# Joined both dataframes to get a graph of episodes(count) and suicide no."
   ]
  },
  {
   "cell_type": "code",
   "execution_count": 37,
   "id": "f13a74c6",
   "metadata": {},
   "outputs": [
    {
     "data": {
      "text/plain": [
       "array([nan,  1.,  3.,  4.,  5.])"
      ]
     },
     "execution_count": 37,
     "metadata": {},
     "output_type": "execute_result"
    }
   ],
   "source": [
    "df_join.Season.unique() #we can see on the DF there's no data from 2016 about the suicide rates, so, when relating both DF, season 2 is not accountable"
   ]
  },
  {
   "cell_type": "code",
   "execution_count": 38,
   "id": "82017373",
   "metadata": {},
   "outputs": [],
   "source": [
    "df_join = jn.r_index(df_join)"
   ]
  },
  {
   "cell_type": "code",
   "execution_count": 39,
   "id": "81456f20",
   "metadata": {},
   "outputs": [],
   "source": [
    "seas_graph= jn.suic_gen_season(df_join)"
   ]
  },
  {
   "cell_type": "code",
   "execution_count": 40,
   "id": "c2c71ad2",
   "metadata": {},
   "outputs": [
    {
     "data": {
      "image/png": "[encoded data removed]",
      "text/plain": [
       "<Figure size 432x288 with 1 Axes>"
      ]
     },
     "metadata": {
      "needs_background": "light"
     },
     "output_type": "display_data"
    }
   ],
   "source": [
    "seas_graph.plot(kind=\"bar\",title = 'Amount of suicides no. by Season vs. Generation');\n",
    "plt.show()"
   ]
  },
  {
   "cell_type": "code",
   "execution_count": 45,
   "id": "03376640",
   "metadata": {},
   "outputs": [
    {
     "name": "stderr",
     "output_type": "stream",
     "text": [
      "/Users/skyfly/miniconda3/envs/ironhack/lib/python3.9/site-packages/seaborn/algorithms.py:98: RuntimeWarning: Mean of empty slice\n",
      "  boot_dist.append(f(*sample, **func_kwargs))\n",
      "/Users/skyfly/miniconda3/envs/ironhack/lib/python3.9/site-packages/numpy/lib/nanfunctions.py:1374: RuntimeWarning: All-NaN slice encountered\n",
      "  r, k = function_base._ureduce(\n",
      "/Users/skyfly/miniconda3/envs/ironhack/lib/python3.9/site-packages/seaborn/algorithms.py:98: RuntimeWarning: Mean of empty slice\n",
      "  boot_dist.append(f(*sample, **func_kwargs))\n",
      "/Users/skyfly/miniconda3/envs/ironhack/lib/python3.9/site-packages/numpy/lib/nanfunctions.py:1374: RuntimeWarning: All-NaN slice encountered\n",
      "  r, k = function_base._ureduce(\n",
      "/Users/skyfly/miniconda3/envs/ironhack/lib/python3.9/site-packages/seaborn/algorithms.py:98: RuntimeWarning: Mean of empty slice\n",
      "  boot_dist.append(f(*sample, **func_kwargs))\n",
      "/Users/skyfly/miniconda3/envs/ironhack/lib/python3.9/site-packages/numpy/lib/nanfunctions.py:1374: RuntimeWarning: All-NaN slice encountered\n",
      "  r, k = function_base._ureduce(\n",
      "/Users/skyfly/miniconda3/envs/ironhack/lib/python3.9/site-packages/seaborn/algorithms.py:98: RuntimeWarning: Mean of empty slice\n",
      "  boot_dist.append(f(*sample, **func_kwargs))\n",
      "/Users/skyfly/miniconda3/envs/ironhack/lib/python3.9/site-packages/numpy/lib/nanfunctions.py:1374: RuntimeWarning: All-NaN slice encountered\n",
      "  r, k = function_base._ureduce(\n",
      "/Users/skyfly/miniconda3/envs/ironhack/lib/python3.9/site-packages/seaborn/algorithms.py:98: RuntimeWarning: Mean of empty slice\n",
      "  boot_dist.append(f(*sample, **func_kwargs))\n",
      "/Users/skyfly/miniconda3/envs/ironhack/lib/python3.9/site-packages/numpy/lib/nanfunctions.py:1374: RuntimeWarning: All-NaN slice encountered\n",
      "  r, k = function_base._ureduce(\n",
      "/Users/skyfly/miniconda3/envs/ironhack/lib/python3.9/site-packages/seaborn/algorithms.py:98: RuntimeWarning: Mean of empty slice\n",
      "  boot_dist.append(f(*sample, **func_kwargs))\n",
      "/Users/skyfly/miniconda3/envs/ironhack/lib/python3.9/site-packages/numpy/lib/nanfunctions.py:1374: RuntimeWarning: All-NaN slice encountered\n",
      "  r, k = function_base._ureduce(\n",
      "/Users/skyfly/miniconda3/envs/ironhack/lib/python3.9/site-packages/seaborn/algorithms.py:98: RuntimeWarning: Mean of empty slice\n",
      "  boot_dist.append(f(*sample, **func_kwargs))\n",
      "/Users/skyfly/miniconda3/envs/ironhack/lib/python3.9/site-packages/numpy/lib/nanfunctions.py:1374: RuntimeWarning: All-NaN slice encountered\n",
      "  r, k = function_base._ureduce(\n",
      "/Users/skyfly/miniconda3/envs/ironhack/lib/python3.9/site-packages/seaborn/algorithms.py:98: RuntimeWarning: Mean of empty slice\n",
      "  boot_dist.append(f(*sample, **func_kwargs))\n",
      "/Users/skyfly/miniconda3/envs/ironhack/lib/python3.9/site-packages/numpy/lib/nanfunctions.py:1374: RuntimeWarning: All-NaN slice encountered\n",
      "  r, k = function_base._ureduce(\n",
      "/Users/skyfly/miniconda3/envs/ironhack/lib/python3.9/site-packages/seaborn/algorithms.py:98: RuntimeWarning: Mean of empty slice\n",
      "  boot_dist.append(f(*sample, **func_kwargs))\n",
      "/Users/skyfly/miniconda3/envs/ironhack/lib/python3.9/site-packages/numpy/lib/nanfunctions.py:1374: RuntimeWarning: All-NaN slice encountered\n",
      "  r, k = function_base._ureduce(\n",
      "/Users/skyfly/miniconda3/envs/ironhack/lib/python3.9/site-packages/seaborn/algorithms.py:98: RuntimeWarning: Mean of empty slice\n",
      "  boot_dist.append(f(*sample, **func_kwargs))\n",
      "/Users/skyfly/miniconda3/envs/ironhack/lib/python3.9/site-packages/numpy/lib/nanfunctions.py:1374: RuntimeWarning: All-NaN slice encountered\n",
      "  r, k = function_base._ureduce(\n"
     ]
    },
    {
     "data": {
      "image/png": "[encoded data removed]",
      "text/plain": [
       "<Figure size 800x400 with 2 Axes>"
      ]
     },
     "metadata": {},
     "output_type": "display_data"
    }
   ],
   "source": [
    "fig = jn.year_suic_season(df_join)"
   ]
  },
  {
   "cell_type": "code",
   "execution_count": null,
   "id": "780da9df",
   "metadata": {},
   "outputs": [],
   "source": []
  }
 ],
 "metadata": {
  "kernelspec": {
   "display_name": "ironhack",
   "language": "python",
   "name": "ironhack"
  },
  "language_info": {
   "codemirror_mode": {
    "name": "ipython",
    "version": 3
   },
   "file_extension": ".py",
   "mimetype": "text/x-python",
   "name": "python",
   "nbconvert_exporter": "python",
   "pygments_lexer": "ipython3",
   "version": "3.9.15"
  },
  "toc": {
   "base_numbering": 1,
   "nav_menu": {},
   "number_sections": true,
   "sideBar": true,
   "skip_h1_title": false,
   "title_cell": "Table of Contents",
   "title_sidebar": "Contents",
   "toc_cell": false,
   "toc_position": {},
   "toc_section_display": true,
   "toc_window_display": false
  }
 },
 "nbformat": 4,
 "nbformat_minor": 5
}
